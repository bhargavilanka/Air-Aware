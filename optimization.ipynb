{
 "cells": [
  {
   "cell_type": "code",
   "execution_count": null,
   "metadata": {},
   "outputs": [],
   "source": [
    "using CSV, DataFrames, Plots, Statistics, JuMP, Gurobi"
   ]
  },
  {
   "cell_type": "code",
   "execution_count": null,
   "metadata": {},
   "outputs": [
    {
     "data": {
      "text/plain": [
       "(2668, 7107)"
      ]
     },
     "metadata": {},
     "output_type": "display_data"
    }
   ],
   "source": [
    "pollution = DataFrame(CSV.File(\"Data/pollution_location.csv\"))\n",
    "pollution_xy = pollution[:,1:2]|>Matrix\n",
    "sensors_xy = DataFrame(CSV.File(\"Data/sensors_location.csv\"))[:,1:2]|>Matrix\n",
    "\n",
    "lat_to_km = [111, 92]\n",
    "lat_diff = (pollution_xy[:,1].-sensors_xy[:,1]').*lat_to_km[1]\n",
    "long_diff = (pollution_xy[:,2].-sensors_xy[:,2]').*lat_to_km[2]\n",
    "\n",
    "dist_matrix = sqrt.(lat_diff.^2 + long_diff.^2)'\n",
    "n, m = size(dist_matrix)"
   ]
  },
  {
   "cell_type": "code",
   "execution_count": null,
   "metadata": {},
   "outputs": [],
   "source": [
    "q = pollution.AIQ\n",
    "r = 2\n",
    "p = 1  # unit price"
   ]
  },
  {
   "cell_type": "code",
   "execution_count": null,
   "metadata": {},
   "outputs": [],
   "source": [
    "# q = f(quality)"
   ]
  },
  {
   "cell_type": "code",
   "execution_count": null,
   "metadata": {},
   "outputs": [],
   "source": [
    "function model1(mu)\n",
    "    \n",
    "    model = Model(Gurobi.Optimizer);\n",
    "    set_optimizer_attribute(model, \"TimeLimit\", 30);\n",
    "    \n",
    "    @variable(model, x[1:n], Bin) #Whether we put a censor at spot i\n",
    "    @variable(model, y[1:m], Bin) #Whether we spot j is covered\n",
    "    \n",
    "    @constraint(model, y.<=x'*(dist_matrix.<=r))\n",
    "    \n",
    "    @objective(model, Max, mu .* sum(y.*q) - (1-mu)*p*sum(x))\n",
    "    optimize!(model)\n",
    "    return value.(x)\n",
    "end\n",
    "\n",
    "sum(model1(1))"
   ]
  }
 ],
 "metadata": {
  "kernelspec": {
   "display_name": "Julia 1.10.4",
   "language": "julia",
   "name": "julia-1.10"
  },
  "language_info": {
   "file_extension": ".jl",
   "mimetype": "application/julia",
   "name": "julia",
   "version": "1.10.4"
  }
 },
 "nbformat": 4,
 "nbformat_minor": 2
}
