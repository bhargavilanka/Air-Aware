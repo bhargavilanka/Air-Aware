{
 "cells": [
  {
   "cell_type": "markdown",
   "metadata": {},
   "source": []
  },
  {
   "cell_type": "code",
   "execution_count": null,
   "metadata": {},
   "outputs": [],
   "source": [
    "using CSV, DataFrames, Plots, Statistics, JuMP, Gurobi"
   ]
  },
  {
   "cell_type": "code",
   "execution_count": null,
   "metadata": {},
   "outputs": [],
   "source": [
    "pollution = DataFrame(CSV.File(\"Data/pollution_location.csv\"))\n",
    "pollution_xy = pollution[:,1:2]|>Matrix\n",
    "sensors_xy = DataFrame(CSV.File(\"Data/sensors_location.csv\"))[:,1:2]|>Matrix\n",
    "\n",
    "lat_to_km = [111, 92]\n",
    "lat_diff = (pollution_xy[:,1].-sensors_xy[:,1]').*lat_to_km[1]\n",
    "long_diff = (pollution_xy[:,2].-sensors_xy[:,2]').*lat_to_km[2]\n",
    "\n",
    "dist_matrix = sqrt.(lat_diff.^2 + long_diff.^2)'\n",
    "n, m = size(dist_matrix)"
   ]
  },
  {
   "cell_type": "code",
   "execution_count": null,
   "metadata": {},
   "outputs": [],
   "source": [
    "q = pollution.AIQ\n",
    "r = 2\n",
    "p = sum(q)/n  # unit price"
   ]
  },
  {
   "cell_type": "code",
   "execution_count": null,
   "metadata": {},
   "outputs": [],
   "source": [
    "# q = f(quality)"
   ]
  },
  {
   "cell_type": "code",
   "execution_count": null,
   "metadata": {},
   "outputs": [],
   "source": [
    "d = dist_matrix.<=r;"
   ]
  },
  {
   "cell_type": "code",
   "execution_count": null,
   "metadata": {},
   "outputs": [],
   "source": [
    "function model1(mu)\n",
    "    model = Model(Gurobi.Optimizer);\n",
    "    set_optimizer_attribute(model, \"TimeLimit\", 5);\n",
    "    \n",
    "    @variable(model, x[1:n], Bin) #Whether we put a censor at spot i\n",
    "    @variable(model, y[1:m].<=1) #Whether we spot j is covered\n",
    "    \n",
    "    @constraint(model, y'.<= x'*d)\n",
    "    # @constraint(model, [i=1:n],x[i]<=sum(d[i])) #censors that do not capture any points are deleted.\n",
    "    \n",
    "    \n",
    "    @objective(model, Max, mu .* sum(y.*q) - (1-mu)*p*sum(x))\n",
    "    optimize!(model)\n",
    "    return value.(x), value.(y)\n",
    "end\n",
    "x, y = model1(0.2)\n",
    "sum(y)"
   ]
  },
  {
   "cell_type": "code",
   "execution_count": null,
   "metadata": {},
   "outputs": [],
   "source": [
    "scatter(pollution_xy[:,2], pollution_xy[:,1], marker_z = y, color=cgrad([:lightgray, :green]), markersize = 1.5, \n",
    "shape = :rect,  markerstrokewidth = 0,ratio = 1.1,\n",
    "legend=false, axis=false, grid=false)\n",
    "title!(\"Solution (we can relax the y :') ! )\")\n",
    "index_x = findall(x.==1)\n",
    "scatter!(sensors_xy[index_x,2], sensors_xy[index_x,1], color=:black, markersize = 2,shape = :circle,  markerstrokewidth = 0)"
   ]
  }
 ],
 "metadata": {
  "kernelspec": {
   "display_name": "Julia 1.10.4",
   "language": "julia",
   "name": "julia-1.10"
  },
  "language_info": {
   "file_extension": ".jl",
   "mimetype": "application/julia",
   "name": "julia",
   "version": "1.10.4"
  }
 },
 "nbformat": 4,
 "nbformat_minor": 2
}
